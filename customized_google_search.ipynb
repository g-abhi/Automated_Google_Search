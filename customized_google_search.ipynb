{
  "nbformat": 4,
  "nbformat_minor": 0,
  "metadata": {
    "colab": {
      "name": "customized_google_search.ipynb",
      "provenance": [],
      "collapsed_sections": []
    },
    "kernelspec": {
      "name": "python3",
      "display_name": "Python 3"
    }
  },
  "cells": [
    {
      "cell_type": "code",
      "metadata": {
        "id": "DqPB7MOU_Yuq"
      },
      "source": [
        "!pip install selenium\r\n",
        "!apt install chromium-chromedriver\r\n",
        "!pip install googlesearch-python"
      ],
      "execution_count": null,
      "outputs": []
    },
    {
      "cell_type": "code",
      "metadata": {
        "colab": {
          "base_uri": "https://localhost:8080/"
        },
        "id": "2PO2CjYe0x7F",
        "outputId": "739aa03e-03c9-45cb-9214-3ac14faf389e"
      },
      "source": [
        "import google_search as google\r\n",
        "google.GoogleSearch().google_search()"
      ],
      "execution_count": 1,
      "outputs": [
        {
          "output_type": "stream",
          "text": [
            "Google Search:\n",
            "qwerty\n",
            "\n",
            "About 52,600,000 results\n",
            "(0.46 seconds)\n",
            "\n",
            "https://en.wikipedia.org/wiki/QWERTY\n",
            "\n",
            "https://www.smithsonianmag.com/arts-culture/fact-of-fiction-the-legend-of-the-qwerty-keyboard-49863249/\n",
            "\n",
            "https://techterms.com/definition/qwerty\n",
            "\n",
            "https://www.theatlantic.com/technology/archive/2013/05/the-lies-youve-been-told-about-the-origin-of-the-qwerty-keyboard/275537/\n",
            "\n",
            "https://www.merriam-webster.com/dictionary/QWERTY\n",
            "\n",
            "https://www.technologyreview.com/2018/10/13/139803/why-we-cant-quit-the-qwerty-keyboard/\n",
            "\n",
            "https://www.cnet.com/news/a-brief-history-of-the-qwerty-keyboard/\n",
            "\n",
            "https://www.newscientist.com/article/2200664-the-truth-about-the-qwerty-keyboard/\n",
            "\n",
            "https://theconversation.com/curious-kids-why-do-we-have-a-qwerty-keyboard-instead-of-putting-the-letters-in-alphabetical-order-116069\n",
            "\n",
            "https://www.dictionary.com/e/qwerty/\n",
            "\n"
          ],
          "name": "stdout"
        }
      ]
    },
    {
      "cell_type": "code",
      "metadata": {
        "id": "BmXML-Td_nTI"
      },
      "source": [
        "from googlesearch import search\r\n",
        "import time\r\n",
        "from selenium import webdriver\r\n",
        "\r\n",
        "class GoogleSearch():\r\n",
        "    def __init__(self):\r\n",
        "        super().__init__()\r\n",
        "    def google_query(self):\r\n",
        "        while True:\r\n",
        "            google_query = input(\"Google Search:\\n\")\r\n",
        "            return google_query\r\n",
        "    def google_search_results(self, google_query):\r\n",
        "        while True:\r\n",
        "            #google_query = input(\"Google Search:\\n\")\r\n",
        "            searches = search(google_query, lang=\"en\")\r\n",
        "            search_results = []\r\n",
        "            for item in searches:\r\n",
        "                search_results.append(str(item))\r\n",
        "            if len(search_results) == 0:\r\n",
        "                continue\r\n",
        "            else:\r\n",
        "                #print(searches)\r\n",
        "                #break\r\n",
        "                return search_results\r\n",
        "    def google_search_results_stats(self, google_query):\r\n",
        "        options = webdriver.ChromeOptions()\r\n",
        "        options.add_argument('-headless')\r\n",
        "        options.add_argument('-no-sandbox')\r\n",
        "        options.add_argument('-disable-dev-shm-usage')\r\n",
        "\r\n",
        "        browser = webdriver.Chrome('chromedriver',options=options) # Firefox()\r\n",
        "        url = 'https://google.com'\r\n",
        "        browser.get(url)\r\n",
        "        # print(browser.page_source)\r\n",
        "        time.sleep(1)\r\n",
        "        name = 'q'\r\n",
        "        search_el = browser.find_element_by_name(\"q\")\r\n",
        "        # print(search_el)\r\n",
        "        # search_el = browser.find_elements_by_css_selector(\"h1\")\r\n",
        "        search_el.send_keys(google_query)\r\n",
        "\r\n",
        "        submit_btn_el = browser.find_element_by_css_selector(\"input[type='submit']\")\r\n",
        "        #print(submit_btn_el.get_attribute('name'))\r\n",
        "        time.sleep(1)\r\n",
        "        submit_btn_el.click()\r\n",
        "\r\n",
        "        search_result_stats = browser.find_element_by_id(\"result-stats\")\r\n",
        "        inner_html_search_result_stats = search_result_stats.get_attribute('innerHTML')\r\n",
        "        split_inner_html_search_result_stats = inner_html_search_result_stats.split(\"<\", 1)\r\n",
        "        count_search_results = split_inner_html_search_result_stats[0]\r\n",
        "        time_search_results = split_inner_html_search_result_stats[1].split(\" \", 1)[1].split(\"&\", 1)[0]\r\n",
        "        #print()\r\n",
        "        #print(count_search_results)\r\n",
        "        #print(time_search_results)\r\n",
        "        return (count_search_results, time_search_results)\r\n",
        "\r\n",
        "    def google_search(self):\r\n",
        "        search_query = self.google_query()\r\n",
        "        search_results = self.google_search_results(search_query)\r\n",
        "        search_stats = self.google_search_results_stats(search_query)\r\n",
        "        print()\r\n",
        "        print(search_stats[0])\r\n",
        "        print(search_stats[1])\r\n",
        "        print()\r\n",
        "        i = 1\r\n",
        "        for result in search_results:\r\n",
        "            if not(i > 10 or \"/search?q=\" in result):\r\n",
        "              print(result)\r\n",
        "              print()\r\n",
        "              i+=1"
      ],
      "execution_count": null,
      "outputs": []
    }
  ]
}